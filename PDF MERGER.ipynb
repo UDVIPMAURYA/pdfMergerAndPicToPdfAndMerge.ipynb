{
 "cells": [
  {
   "cell_type": "code",
   "execution_count": 1,
   "id": "2019256c-0679-4888-ac5b-2516e6bd7b8b",
   "metadata": {
    "scrolled": true
   },
   "outputs": [
    {
     "name": "stdout",
     "output_type": "stream",
     "text": [
      "Defaulting to user installation because normal site-packages is not writeable\n",
      "Requirement already satisfied: fpdf in c:\\users\\admin\\appdata\\roaming\\python\\python312\\site-packages (1.7.2)\n"
     ]
    }
   ],
   "source": [
    "!pip install fpdf "
   ]
  },
  {
   "cell_type": "markdown",
   "id": "cf418c7f-57e9-4e21-a4d2-1a349612aef5",
   "metadata": {},
   "source": [
    "**how to dir in jupyter to desired dir**\n",
    "To change the working directory to a desired directory in Jupyter, you can follow these steps:\n",
    "\n",
    "**Navigate Through File Explorer:**\n",
    "\n",
    "When opening a Jupyter Notebook, you can browse to your desired directory using the file browser interface.\n",
    "\n",
    "Open Jupyter in the folder where you want to work by running the command:\n",
    "\n",
    "*bash*\n",
    "**jupyter notebook**\n",
    "This will launch Jupyter in the directory where you executed the command.\n",
    "\n",
    "**Change the Directory Dynamically in the Notebook:**\n",
    "\n",
    "If you've already opened a notebook and want to change its working directory dynamically, you can use the following code:\n",
    "\n",
    "*python*\n",
    "**import os\n",
    "os.chdir('path/to/your/directory')  # Replace 'path/to/your/directory' with the full path to your desired folder.\n",
    "print(\"Current Working Directory:\", os.getcwd())**\n",
    "This code changes the working directory for the current Jupyter kernel session.\n",
    "\n",
    "**Use the %cd Magic Command:**\n",
    "\n",
    "Another option is to use a magic command that Jupyter provides:\n",
    "\n",
    "*python*\n",
    "**%cd path/to/your/directory**\n",
    "This is a quick way to switch directories within a notebook."
   ]
  },
  {
   "cell_type": "code",
   "execution_count": 12,
   "id": "23a31765-640f-4093-98ce-8dac26c66a3b",
   "metadata": {},
   "outputs": [
    {
     "name": "stdout",
     "output_type": "stream",
     "text": [
      "C:\\Users\\Admin\\Downloads\\X\n"
     ]
    }
   ],
   "source": [
    "%cd C:/Users/Admin/Downloads/X"
   ]
  },
  {
   "cell_type": "markdown",
   "id": "2c3cb4fe-49f2-4562-b7a0-bc82ff0cb486",
   "metadata": {},
   "source": [
    "**all merged PDFs will be formatted to A4 size, and each PDF or image will be placed on a separate A4 page in the final merged PDF**"
   ]
  },
  {
   "cell_type": "code",
   "execution_count": null,
   "id": "e70e27f8-624f-4c6a-9eaa-4ea8ae4550a3",
   "metadata": {},
   "outputs": [],
   "source": [
    "import PyPDF2\n",
    "import os\n",
    "from PIL import Image\n",
    "from fpdf import FPDF\n",
    "\n",
    "def convert_image_to_pdf(image_path, output_path):\n",
    "    image = Image.open(image_path).convert('RGB')\n",
    "    pdf = FPDF(unit=\"mm\", format=\"A4\")\n",
    "    pdf.add_page()\n",
    "    \n",
    "    # Get A4 dimensions (210x297 mm) and resize while maintaining aspect ratio\n",
    "    a4_width, a4_height = 210, 297\n",
    "    image.thumbnail((a4_width * 3.78, a4_height * 3.78))  # Convert mm to pixels (~3.78 px/mm)\n",
    "    \n",
    "    temp_image_path = output_path.replace(\".pdf\", \"_temp.jpg\")\n",
    "    image.save(temp_image_path)\n",
    "    pdf.image(temp_image_path, x=0, y=0, w=a4_width)\n",
    "    pdf.output(output_path)\n",
    "    os.remove(temp_image_path)\n",
    "\n",
    "def merge_pdfs_and_images(pdf_list, image_list, output_dir, output_filename):\n",
    "    merger = PyPDF2.PdfMerger()\n",
    "    temp_image_pdfs = []\n",
    "    \n",
    "    # Convert images to temporary PDFs (A4 size)\n",
    "    for img in image_list:\n",
    "        temp_pdf = os.path.join(output_dir, f\"{os.path.splitext(os.path.basename(img))[0]}.pdf\")\n",
    "        convert_image_to_pdf(img, temp_pdf)\n",
    "        temp_image_pdfs.append(temp_pdf)\n",
    "    \n",
    "    # Merge PDFs and converted image PDFs, ensuring each file is on a separate A4 page\n",
    "    for pdf in pdf_list + temp_image_pdfs:\n",
    "        merger.append(pdf)\n",
    "    \n",
    "    output_path = os.path.join(output_dir, output_filename)\n",
    "    merger.write(output_path)\n",
    "    merger.close()\n",
    "    \n",
    "    # Cleanup temporary image PDFs\n",
    "    for temp_pdf in temp_image_pdfs:\n",
    "        os.remove(temp_pdf)\n",
    "    \n",
    "    print(f\"Final merged PDF saved as: {output_path}\")\n",
    "\n",
    "if __name__ == \"__main__\":\n",
    "    output_directory = \"./dir\"  # Replace with your desired directory\n",
    "    os.makedirs(output_directory, exist_ok=True)\n",
    "    \n",
    "    # Input PDFs and images (can be given separately or together)\n",
    "    pdf_files = [ \"Doc.pdf\",\"news.pdf\"]  # Replace with your PDF filenames\n",
    "    image_files = [\".pic.jpg\"]  # Replace with your image filenames\n",
    "    \n",
    "    output_merged_pdf = \"Merger_result.pdf\"\n",
    "    merge_pdfs_and_images(pdf_files, image_files, output_directory, output_merged_pdf)\n"
   ]
  },
  {
   "cell_type": "code",
   "execution_count": null,
   "id": "eb45a90e-7734-4177-999c-e6fe40799518",
   "metadata": {},
   "outputs": [],
   "source": []
  }
 ],
 "metadata": {
  "kernelspec": {
   "display_name": "Python 3 (ipykernel)",
   "language": "python",
   "name": "python3"
  },
  "language_info": {
   "codemirror_mode": {
    "name": "ipython",
    "version": 3
   },
   "file_extension": ".py",
   "mimetype": "text/x-python",
   "name": "python",
   "nbconvert_exporter": "python",
   "pygments_lexer": "ipython3",
   "version": "3.12.5"
  },
  "widgets": {
   "application/vnd.jupyter.widget-state+json": {
    "state": {},
    "version_major": 2,
    "version_minor": 0
   }
  }
 },
 "nbformat": 4,
 "nbformat_minor": 5
}
